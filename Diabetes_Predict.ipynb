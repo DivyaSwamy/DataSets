{
 "cells": [
  {
   "cell_type": "markdown",
   "metadata": {},
   "source": [
    "#####  Divya Swaminathan  ,   April 8th 2020.\n",
    "\n",
    "Analysis of the Pima India dataset.\n",
    "\n",
    "Central Queation is - With what accuracy can I predict if\n",
    "a person will have diabetes or not. \n",
    "\n",
    "\n",
    "Data available -  https://www.kaggle.com/uciml/pima-indians-diabetes-database and/or UCI machine learning repository\n"
   ]
  },
  {
   "cell_type": "markdown",
   "metadata": {},
   "source": [
    "***********\n",
    "\n",
    "In this worksheet I have performed: \\\n",
    "(a) a basic exploratory data analysis. \\\n",
    "(b) imputed some feature values. \\\n",
    "(c) performed a simple logistic regression on the original dataset. \n",
    "\n",
    "***********"
   ]
  },
  {
   "cell_type": "code",
   "execution_count": 1,
   "metadata": {},
   "outputs": [],
   "source": [
    "import pandas as pd\n",
    "import numpy as np\n",
    "import matplotlib.pyplot as plt\n",
    "import seaborn as sns\n",
    "\n",
    "plt.style.use('ggplot')\n",
    "\n",
    "import sklearn.metrics as metrics"
   ]
  },
  {
   "cell_type": "markdown",
   "metadata": {},
   "source": [
    "***********\n",
    "#### Section 1: Exploratory Data Analysis\n",
    "***********"
   ]
  },
  {
   "cell_type": "code",
   "execution_count": 2,
   "metadata": {},
   "outputs": [],
   "source": [
    "df = pd.read_csv('diabetes.csv')"
   ]
  },
  {
   "cell_type": "code",
   "execution_count": 3,
   "metadata": {},
   "outputs": [
    {
     "data": {
      "text/html": [
       "<div>\n",
       "<style scoped>\n",
       "    .dataframe tbody tr th:only-of-type {\n",
       "        vertical-align: middle;\n",
       "    }\n",
       "\n",
       "    .dataframe tbody tr th {\n",
       "        vertical-align: top;\n",
       "    }\n",
       "\n",
       "    .dataframe thead th {\n",
       "        text-align: right;\n",
       "    }\n",
       "</style>\n",
       "<table border=\"1\" class=\"dataframe\">\n",
       "  <thead>\n",
       "    <tr style=\"text-align: right;\">\n",
       "      <th></th>\n",
       "      <th>Pregnancies</th>\n",
       "      <th>Glucose</th>\n",
       "      <th>BloodPressure</th>\n",
       "      <th>SkinThickness</th>\n",
       "      <th>Insulin</th>\n",
       "      <th>BMI</th>\n",
       "      <th>DiabetesPedigreeFunction</th>\n",
       "      <th>Age</th>\n",
       "      <th>Outcome</th>\n",
       "    </tr>\n",
       "  </thead>\n",
       "  <tbody>\n",
       "    <tr>\n",
       "      <td>0</td>\n",
       "      <td>6</td>\n",
       "      <td>148</td>\n",
       "      <td>72</td>\n",
       "      <td>35</td>\n",
       "      <td>0</td>\n",
       "      <td>33.6</td>\n",
       "      <td>0.627</td>\n",
       "      <td>50</td>\n",
       "      <td>1</td>\n",
       "    </tr>\n",
       "    <tr>\n",
       "      <td>1</td>\n",
       "      <td>1</td>\n",
       "      <td>85</td>\n",
       "      <td>66</td>\n",
       "      <td>29</td>\n",
       "      <td>0</td>\n",
       "      <td>26.6</td>\n",
       "      <td>0.351</td>\n",
       "      <td>31</td>\n",
       "      <td>0</td>\n",
       "    </tr>\n",
       "    <tr>\n",
       "      <td>2</td>\n",
       "      <td>8</td>\n",
       "      <td>183</td>\n",
       "      <td>64</td>\n",
       "      <td>0</td>\n",
       "      <td>0</td>\n",
       "      <td>23.3</td>\n",
       "      <td>0.672</td>\n",
       "      <td>32</td>\n",
       "      <td>1</td>\n",
       "    </tr>\n",
       "    <tr>\n",
       "      <td>3</td>\n",
       "      <td>1</td>\n",
       "      <td>89</td>\n",
       "      <td>66</td>\n",
       "      <td>23</td>\n",
       "      <td>94</td>\n",
       "      <td>28.1</td>\n",
       "      <td>0.167</td>\n",
       "      <td>21</td>\n",
       "      <td>0</td>\n",
       "    </tr>\n",
       "    <tr>\n",
       "      <td>4</td>\n",
       "      <td>0</td>\n",
       "      <td>137</td>\n",
       "      <td>40</td>\n",
       "      <td>35</td>\n",
       "      <td>168</td>\n",
       "      <td>43.1</td>\n",
       "      <td>2.288</td>\n",
       "      <td>33</td>\n",
       "      <td>1</td>\n",
       "    </tr>\n",
       "  </tbody>\n",
       "</table>\n",
       "</div>"
      ],
      "text/plain": [
       "   Pregnancies  Glucose  BloodPressure  SkinThickness  Insulin   BMI  \\\n",
       "0            6      148             72             35        0  33.6   \n",
       "1            1       85             66             29        0  26.6   \n",
       "2            8      183             64              0        0  23.3   \n",
       "3            1       89             66             23       94  28.1   \n",
       "4            0      137             40             35      168  43.1   \n",
       "\n",
       "   DiabetesPedigreeFunction  Age  Outcome  \n",
       "0                     0.627   50        1  \n",
       "1                     0.351   31        0  \n",
       "2                     0.672   32        1  \n",
       "3                     0.167   21        0  \n",
       "4                     2.288   33        1  "
      ]
     },
     "execution_count": 3,
     "metadata": {},
     "output_type": "execute_result"
    }
   ],
   "source": [
    "df.head()"
   ]
  },
  {
   "cell_type": "code",
   "execution_count": 4,
   "metadata": {},
   "outputs": [
    {
     "data": {
      "text/plain": [
       "Index(['Pregnancies', 'Glucose', 'BloodPressure', 'SkinThickness', 'Insulin',\n",
       "       'BMI', 'DiabetesPedigreeFunction', 'Age', 'Outcome'],\n",
       "      dtype='object')"
      ]
     },
     "execution_count": 4,
     "metadata": {},
     "output_type": "execute_result"
    }
   ],
   "source": [
    "# Coulumns names\n",
    "df.columns"
   ]
  },
  {
   "cell_type": "code",
   "execution_count": 5,
   "metadata": {},
   "outputs": [
    {
     "data": {
      "text/plain": [
       "Pregnancies                   int64\n",
       "Glucose                       int64\n",
       "BloodPressure                 int64\n",
       "SkinThickness                 int64\n",
       "Insulin                       int64\n",
       "BMI                         float64\n",
       "DiabetesPedigreeFunction    float64\n",
       "Age                           int64\n",
       "Outcome                       int64\n",
       "dtype: object"
      ]
     },
     "execution_count": 5,
     "metadata": {},
     "output_type": "execute_result"
    }
   ],
   "source": [
    "# Column types\n",
    "df.dtypes"
   ]
  },
  {
   "cell_type": "code",
   "execution_count": 6,
   "metadata": {},
   "outputs": [
    {
     "data": {
      "text/plain": [
       "(768, 9)"
      ]
     },
     "execution_count": 6,
     "metadata": {},
     "output_type": "execute_result"
    }
   ],
   "source": [
    "# Dimension of the data set\n",
    "df.shape"
   ]
  },
  {
   "cell_type": "code",
   "execution_count": 7,
   "metadata": {},
   "outputs": [
    {
     "data": {
      "text/html": [
       "<div>\n",
       "<style scoped>\n",
       "    .dataframe tbody tr th:only-of-type {\n",
       "        vertical-align: middle;\n",
       "    }\n",
       "\n",
       "    .dataframe tbody tr th {\n",
       "        vertical-align: top;\n",
       "    }\n",
       "\n",
       "    .dataframe thead th {\n",
       "        text-align: right;\n",
       "    }\n",
       "</style>\n",
       "<table border=\"1\" class=\"dataframe\">\n",
       "  <thead>\n",
       "    <tr style=\"text-align: right;\">\n",
       "      <th></th>\n",
       "      <th>count</th>\n",
       "      <th>mean</th>\n",
       "      <th>std</th>\n",
       "      <th>min</th>\n",
       "      <th>25%</th>\n",
       "      <th>50%</th>\n",
       "      <th>75%</th>\n",
       "      <th>max</th>\n",
       "    </tr>\n",
       "  </thead>\n",
       "  <tbody>\n",
       "    <tr>\n",
       "      <td>Pregnancies</td>\n",
       "      <td>768.0</td>\n",
       "      <td>3.845052</td>\n",
       "      <td>3.369578</td>\n",
       "      <td>0.000</td>\n",
       "      <td>1.00000</td>\n",
       "      <td>3.0000</td>\n",
       "      <td>6.00000</td>\n",
       "      <td>17.00</td>\n",
       "    </tr>\n",
       "    <tr>\n",
       "      <td>Glucose</td>\n",
       "      <td>768.0</td>\n",
       "      <td>120.894531</td>\n",
       "      <td>31.972618</td>\n",
       "      <td>0.000</td>\n",
       "      <td>99.00000</td>\n",
       "      <td>117.0000</td>\n",
       "      <td>140.25000</td>\n",
       "      <td>199.00</td>\n",
       "    </tr>\n",
       "    <tr>\n",
       "      <td>BloodPressure</td>\n",
       "      <td>768.0</td>\n",
       "      <td>69.105469</td>\n",
       "      <td>19.355807</td>\n",
       "      <td>0.000</td>\n",
       "      <td>62.00000</td>\n",
       "      <td>72.0000</td>\n",
       "      <td>80.00000</td>\n",
       "      <td>122.00</td>\n",
       "    </tr>\n",
       "    <tr>\n",
       "      <td>SkinThickness</td>\n",
       "      <td>768.0</td>\n",
       "      <td>20.536458</td>\n",
       "      <td>15.952218</td>\n",
       "      <td>0.000</td>\n",
       "      <td>0.00000</td>\n",
       "      <td>23.0000</td>\n",
       "      <td>32.00000</td>\n",
       "      <td>99.00</td>\n",
       "    </tr>\n",
       "    <tr>\n",
       "      <td>Insulin</td>\n",
       "      <td>768.0</td>\n",
       "      <td>79.799479</td>\n",
       "      <td>115.244002</td>\n",
       "      <td>0.000</td>\n",
       "      <td>0.00000</td>\n",
       "      <td>30.5000</td>\n",
       "      <td>127.25000</td>\n",
       "      <td>846.00</td>\n",
       "    </tr>\n",
       "    <tr>\n",
       "      <td>BMI</td>\n",
       "      <td>768.0</td>\n",
       "      <td>31.992578</td>\n",
       "      <td>7.884160</td>\n",
       "      <td>0.000</td>\n",
       "      <td>27.30000</td>\n",
       "      <td>32.0000</td>\n",
       "      <td>36.60000</td>\n",
       "      <td>67.10</td>\n",
       "    </tr>\n",
       "    <tr>\n",
       "      <td>DiabetesPedigreeFunction</td>\n",
       "      <td>768.0</td>\n",
       "      <td>0.471876</td>\n",
       "      <td>0.331329</td>\n",
       "      <td>0.078</td>\n",
       "      <td>0.24375</td>\n",
       "      <td>0.3725</td>\n",
       "      <td>0.62625</td>\n",
       "      <td>2.42</td>\n",
       "    </tr>\n",
       "    <tr>\n",
       "      <td>Age</td>\n",
       "      <td>768.0</td>\n",
       "      <td>33.240885</td>\n",
       "      <td>11.760232</td>\n",
       "      <td>21.000</td>\n",
       "      <td>24.00000</td>\n",
       "      <td>29.0000</td>\n",
       "      <td>41.00000</td>\n",
       "      <td>81.00</td>\n",
       "    </tr>\n",
       "    <tr>\n",
       "      <td>Outcome</td>\n",
       "      <td>768.0</td>\n",
       "      <td>0.348958</td>\n",
       "      <td>0.476951</td>\n",
       "      <td>0.000</td>\n",
       "      <td>0.00000</td>\n",
       "      <td>0.0000</td>\n",
       "      <td>1.00000</td>\n",
       "      <td>1.00</td>\n",
       "    </tr>\n",
       "  </tbody>\n",
       "</table>\n",
       "</div>"
      ],
      "text/plain": [
       "                          count        mean         std     min       25%  \\\n",
       "Pregnancies               768.0    3.845052    3.369578   0.000   1.00000   \n",
       "Glucose                   768.0  120.894531   31.972618   0.000  99.00000   \n",
       "BloodPressure             768.0   69.105469   19.355807   0.000  62.00000   \n",
       "SkinThickness             768.0   20.536458   15.952218   0.000   0.00000   \n",
       "Insulin                   768.0   79.799479  115.244002   0.000   0.00000   \n",
       "BMI                       768.0   31.992578    7.884160   0.000  27.30000   \n",
       "DiabetesPedigreeFunction  768.0    0.471876    0.331329   0.078   0.24375   \n",
       "Age                       768.0   33.240885   11.760232  21.000  24.00000   \n",
       "Outcome                   768.0    0.348958    0.476951   0.000   0.00000   \n",
       "\n",
       "                               50%        75%     max  \n",
       "Pregnancies                 3.0000    6.00000   17.00  \n",
       "Glucose                   117.0000  140.25000  199.00  \n",
       "BloodPressure              72.0000   80.00000  122.00  \n",
       "SkinThickness              23.0000   32.00000   99.00  \n",
       "Insulin                    30.5000  127.25000  846.00  \n",
       "BMI                        32.0000   36.60000   67.10  \n",
       "DiabetesPedigreeFunction    0.3725    0.62625    2.42  \n",
       "Age                        29.0000   41.00000   81.00  \n",
       "Outcome                     0.0000    1.00000    1.00  "
      ]
     },
     "execution_count": 7,
     "metadata": {},
     "output_type": "execute_result"
    }
   ],
   "source": [
    "# Descipton of the data set\n",
    "df.describe().transpose()\n",
    "\n"
   ]
  },
  {
   "cell_type": "code",
   "execution_count": 8,
   "metadata": {},
   "outputs": [
    {
     "data": {
      "text/plain": [
       "Pregnancies                 0\n",
       "Glucose                     0\n",
       "BloodPressure               0\n",
       "SkinThickness               0\n",
       "Insulin                     0\n",
       "BMI                         0\n",
       "DiabetesPedigreeFunction    0\n",
       "Age                         0\n",
       "Outcome                     0\n",
       "dtype: int64"
      ]
     },
     "execution_count": 8,
     "metadata": {},
     "output_type": "execute_result"
    }
   ],
   "source": [
    "# 'Are there any null values?'\n",
    "df.isnull().sum()"
   ]
  },
  {
   "cell_type": "markdown",
   "metadata": {},
   "source": [
    " Note for both skin thickness and Insulin atleast 25% of values  are zero  and there are no NA's or null values. "
   ]
  },
  {
   "cell_type": "code",
   "execution_count": 9,
   "metadata": {},
   "outputs": [
    {
     "data": {
      "text/plain": [
       "0    500\n",
       "1    268\n",
       "Name: Outcome, dtype: int64"
      ]
     },
     "execution_count": 9,
     "metadata": {},
     "output_type": "execute_result"
    }
   ],
   "source": [
    "# Column Outcome is the response variable. \n",
    "df.Outcome.value_counts()"
   ]
  },
  {
   "cell_type": "code",
   "execution_count": 10,
   "metadata": {},
   "outputs": [
    {
     "data": {
      "text/plain": [
       "array([[<matplotlib.axes._subplots.AxesSubplot object at 0x1a17362890>]],\n",
       "      dtype=object)"
      ]
     },
     "execution_count": 10,
     "metadata": {},
     "output_type": "execute_result"
    },
    {
     "data": {
      "image/png": "[encoded data removed]",
      "text/plain": [
       "<Figure size 432x288 with 1 Axes>"
      ]
     },
     "metadata": {
      "needs_background": "light"
     },
     "output_type": "display_data"
    }
   ],
   "source": [
    "# Response variable, Outcome, is imbalanced\n",
    "df.hist(['Outcome'], facecolor = 'orange', edgecolor = 'k', linewidth = 2)\n",
    "\n"
   ]
  },
  {
   "cell_type": "code",
   "execution_count": 11,
   "metadata": {},
   "outputs": [
    {
     "data": {
      "text/plain": [
       "Pregnancies                 111\n",
       "Glucose                       5\n",
       "BloodPressure                35\n",
       "SkinThickness               227\n",
       "Insulin                     374\n",
       "BMI                          11\n",
       "DiabetesPedigreeFunction      0\n",
       "Age                           0\n",
       "Outcome                     500\n",
       "dtype: int64"
      ]
     },
     "execution_count": 11,
     "metadata": {},
     "output_type": "execute_result"
    }
   ],
   "source": [
    "# Count the # of zeros per feature(column)\n",
    "df.isin([0]).sum()\n"
   ]
  },
  {
   "cell_type": "markdown",
   "metadata": {},
   "source": [
    " Pregnancies and outcome being zero is fine but there are high numbers of 'insulin' and 'skin thickness' equal to zero along with few readings of 'BP', 'BMI' and 'Glucose'. I choose to impute these values based on mean value of the feature by class. "
   ]
  },
  {
   "cell_type": "code",
   "execution_count": 12,
   "metadata": {},
   "outputs": [],
   "source": [
    " x =df.Outcome[1:5]"
   ]
  },
  {
   "cell_type": "code",
   "execution_count": 13,
   "metadata": {},
   "outputs": [],
   "source": [
    "df_impute = df.copy()"
   ]
  },
  {
   "cell_type": "code",
   "execution_count": 14,
   "metadata": {},
   "outputs": [],
   "source": [
    "fill_columns = ['Glucose','BloodPressure','SkinThickness','Insulin','BMI']\n",
    "# Mask zeros to NAN's\n",
    "df_impute.iloc[:,1:6] = df_impute.iloc[:,1:6].mask(df_impute.iloc[:,1:6] == 0)\n",
    "df_impute.head()\n",
    "# Subset the data set based on class\n",
    "df_impute0 = df_impute[df_impute.Outcome == 0]\n",
    "df_impute1 = df_impute[df_impute.Outcome == 1]\n",
    "#"
   ]
  },
  {
   "cell_type": "code",
   "execution_count": 15,
   "metadata": {},
   "outputs": [
    {
     "name": "stderr",
     "output_type": "stream",
     "text": [
      "/Users/divyaswaminathan/anaconda3/envs/insight/lib/python3.7/site-packages/pandas/core/indexing.py:494: SettingWithCopyWarning: \n",
      "A value is trying to be set on a copy of a slice from a DataFrame.\n",
      "Try using .loc[row_indexer,col_indexer] = value instead\n",
      "\n",
      "See the caveats in the documentation: http://pandas.pydata.org/pandas-docs/stable/user_guide/indexing.html#returning-a-view-versus-a-copy\n",
      "  self.obj[item] = s\n"
     ]
    }
   ],
   "source": [
    "# Fill NANs , in columns of choice, using class means\n",
    "df_impute0.loc[:,fill_columns]=df_impute0.loc[:,fill_columns].fillna(df_impute0.loc[:,fill_columns].mean())"
   ]
  },
  {
   "cell_type": "code",
   "execution_count": 16,
   "metadata": {},
   "outputs": [],
   "source": [
    "df_impute1.loc[:,fill_columns]= df_impute1.loc[:,fill_columns].fillna(df_impute1.loc[:,fill_columns].mean())"
   ]
  },
  {
   "cell_type": "code",
   "execution_count": 17,
   "metadata": {},
   "outputs": [
    {
     "name": "stdout",
     "output_type": "stream",
     "text": [
      "Original data set\n"
     ]
    },
    {
     "data": {
      "text/html": [
       "<div>\n",
       "<style scoped>\n",
       "    .dataframe tbody tr th:only-of-type {\n",
       "        vertical-align: middle;\n",
       "    }\n",
       "\n",
       "    .dataframe tbody tr th {\n",
       "        vertical-align: top;\n",
       "    }\n",
       "\n",
       "    .dataframe thead th {\n",
       "        text-align: right;\n",
       "    }\n",
       "</style>\n",
       "<table border=\"1\" class=\"dataframe\">\n",
       "  <thead>\n",
       "    <tr style=\"text-align: right;\">\n",
       "      <th>Outcome</th>\n",
       "      <th>0</th>\n",
       "      <th>1</th>\n",
       "    </tr>\n",
       "  </thead>\n",
       "  <tbody>\n",
       "    <tr>\n",
       "      <td>Pregnancies</td>\n",
       "      <td>3.298000</td>\n",
       "      <td>4.865672</td>\n",
       "    </tr>\n",
       "    <tr>\n",
       "      <td>Glucose</td>\n",
       "      <td>109.980000</td>\n",
       "      <td>141.257463</td>\n",
       "    </tr>\n",
       "    <tr>\n",
       "      <td>BloodPressure</td>\n",
       "      <td>68.184000</td>\n",
       "      <td>70.824627</td>\n",
       "    </tr>\n",
       "    <tr>\n",
       "      <td>SkinThickness</td>\n",
       "      <td>19.664000</td>\n",
       "      <td>22.164179</td>\n",
       "    </tr>\n",
       "    <tr>\n",
       "      <td>Insulin</td>\n",
       "      <td>68.792000</td>\n",
       "      <td>100.335821</td>\n",
       "    </tr>\n",
       "    <tr>\n",
       "      <td>BMI</td>\n",
       "      <td>30.304200</td>\n",
       "      <td>35.142537</td>\n",
       "    </tr>\n",
       "    <tr>\n",
       "      <td>DiabetesPedigreeFunction</td>\n",
       "      <td>0.429734</td>\n",
       "      <td>0.550500</td>\n",
       "    </tr>\n",
       "    <tr>\n",
       "      <td>Age</td>\n",
       "      <td>31.190000</td>\n",
       "      <td>37.067164</td>\n",
       "    </tr>\n",
       "  </tbody>\n",
       "</table>\n",
       "</div>"
      ],
      "text/plain": [
       "Outcome                            0           1\n",
       "Pregnancies                 3.298000    4.865672\n",
       "Glucose                   109.980000  141.257463\n",
       "BloodPressure              68.184000   70.824627\n",
       "SkinThickness              19.664000   22.164179\n",
       "Insulin                    68.792000  100.335821\n",
       "BMI                        30.304200   35.142537\n",
       "DiabetesPedigreeFunction    0.429734    0.550500\n",
       "Age                        31.190000   37.067164"
      ]
     },
     "execution_count": 17,
     "metadata": {},
     "output_type": "execute_result"
    }
   ],
   "source": [
    "# Concat the 2 subsets and shuffle.\n",
    "df_impute = pd.concat([df_impute0,df_impute1],axis = 0)\n",
    "\n",
    "from sklearn.utils import shuffle\n",
    "df_impute = shuffle(df_impute)\n",
    "\n",
    "print('Original data set')\n",
    "df.groupby('Outcome').mean().transpose() \n"
   ]
  },
  {
   "cell_type": "code",
   "execution_count": 18,
   "metadata": {},
   "outputs": [
    {
     "name": "stdout",
     "output_type": "stream",
     "text": [
      "After imputing\n"
     ]
    },
    {
     "data": {
      "text/html": [
       "<div>\n",
       "<style scoped>\n",
       "    .dataframe tbody tr th:only-of-type {\n",
       "        vertical-align: middle;\n",
       "    }\n",
       "\n",
       "    .dataframe tbody tr th {\n",
       "        vertical-align: top;\n",
       "    }\n",
       "\n",
       "    .dataframe thead th {\n",
       "        text-align: right;\n",
       "    }\n",
       "</style>\n",
       "<table border=\"1\" class=\"dataframe\">\n",
       "  <thead>\n",
       "    <tr style=\"text-align: right;\">\n",
       "      <th>Outcome</th>\n",
       "      <th>0</th>\n",
       "      <th>1</th>\n",
       "    </tr>\n",
       "  </thead>\n",
       "  <tbody>\n",
       "    <tr>\n",
       "      <td>Pregnancies</td>\n",
       "      <td>3.298000</td>\n",
       "      <td>4.865672</td>\n",
       "    </tr>\n",
       "    <tr>\n",
       "      <td>Glucose</td>\n",
       "      <td>110.643863</td>\n",
       "      <td>142.319549</td>\n",
       "    </tr>\n",
       "    <tr>\n",
       "      <td>BloodPressure</td>\n",
       "      <td>70.877339</td>\n",
       "      <td>75.321429</td>\n",
       "    </tr>\n",
       "    <tr>\n",
       "      <td>SkinThickness</td>\n",
       "      <td>27.235457</td>\n",
       "      <td>33.000000</td>\n",
       "    </tr>\n",
       "    <tr>\n",
       "      <td>Insulin</td>\n",
       "      <td>130.287879</td>\n",
       "      <td>206.846154</td>\n",
       "    </tr>\n",
       "    <tr>\n",
       "      <td>BMI</td>\n",
       "      <td>30.859674</td>\n",
       "      <td>35.406767</td>\n",
       "    </tr>\n",
       "    <tr>\n",
       "      <td>DiabetesPedigreeFunction</td>\n",
       "      <td>0.429734</td>\n",
       "      <td>0.550500</td>\n",
       "    </tr>\n",
       "    <tr>\n",
       "      <td>Age</td>\n",
       "      <td>31.190000</td>\n",
       "      <td>37.067164</td>\n",
       "    </tr>\n",
       "  </tbody>\n",
       "</table>\n",
       "</div>"
      ],
      "text/plain": [
       "Outcome                            0           1\n",
       "Pregnancies                 3.298000    4.865672\n",
       "Glucose                   110.643863  142.319549\n",
       "BloodPressure              70.877339   75.321429\n",
       "SkinThickness              27.235457   33.000000\n",
       "Insulin                   130.287879  206.846154\n",
       "BMI                        30.859674   35.406767\n",
       "DiabetesPedigreeFunction    0.429734    0.550500\n",
       "Age                        31.190000   37.067164"
      ]
     },
     "execution_count": 18,
     "metadata": {},
     "output_type": "execute_result"
    }
   ],
   "source": [
    "print('After imputing')\n",
    "df_impute.groupby('Outcome').mean().transpose()"
   ]
  },
  {
   "cell_type": "markdown",
   "metadata": {},
   "source": [
    "##### Notice the difference in values now .\n",
    "\n",
    "#### Some Exploratory Plots"
   ]
  },
  {
   "cell_type": "code",
   "execution_count": 19,
   "metadata": {},
   "outputs": [
    {
     "data": {
      "image/png": "[encoded data removed]",
      "text/plain": [
       "<Figure size 432x288 with 1 Axes>"
      ]
     },
     "metadata": {
      "needs_background": "light"
     },
     "output_type": "display_data"
    }
   ],
   "source": [
    "\n",
    "table1 = df.groupby('Outcome').mean().transpose()\n",
    "table1_impute = df_impute.groupby('Outcome').mean().transpose()\n",
    "\n",
    "table1.plot(kind = 'barh', xlim = [0,210], ylim = [0,10])\n",
    "plt.xlabel('Mean Values', size = 10)\n",
    "plt.ylabel('Features', size = 10)\n",
    "plt.title('Mean values separated by class: df', size = 20)\n",
    "plt.show()"
   ]
  },
  {
   "cell_type": "code",
   "execution_count": 20,
   "metadata": {},
   "outputs": [
    {
     "data": {
      "image/png": "[encoded data removed]",
      "text/plain": [
       "<Figure size 432x288 with 1 Axes>"
      ]
     },
     "metadata": {
      "needs_background": "light"
     },
     "output_type": "display_data"
    }
   ],
   "source": [
    "table1_impute.plot(kind = 'barh', ylim = [0, 10])\n",
    "plt.xlabel('Mean Values', size = 10)\n",
    "plt.ylabel('Features', size= 10)\n",
    "plt.title('Mean values separated by class for imputed data', size = 10)\n",
    "plt.show()"
   ]
  },
  {
   "cell_type": "markdown",
   "metadata": {},
   "source": [
    "##### Plot correlation matrix"
   ]
  },
  {
   "cell_type": "code",
   "execution_count": 21,
   "metadata": {},
   "outputs": [
    {
     "data": {
      "text/html": [
       "<style  type=\"text/css\" >\n",
       "    #T_af39b33e_b038_11ea_978f_c4b301d41ea1row0_col0 {\n",
       "            background-color:  #b40426;\n",
       "            color:  #f1f1f1;\n",
       "        }    #T_af39b33e_b038_11ea_978f_c4b301d41ea1row0_col1 {\n",
       "            background-color:  #3b4cc0;\n",
       "            color:  #f1f1f1;\n",
       "        }    #T_af39b33e_b038_11ea_978f_c4b301d41ea1row0_col2 {\n",
       "            background-color:  #7ea1fa;\n",
       "            color:  #000000;\n",
       "        }    #T_af39b33e_b038_11ea_978f_c4b301d41ea1row0_col3 {\n",
       "            background-color:  #3b4cc0;\n",
       "            color:  #f1f1f1;\n",
       "        }    #T_af39b33e_b038_11ea_978f_c4b301d41ea1row0_col4 {\n",
       "            background-color:  #3b4cc0;\n",
       "            color:  #f1f1f1;\n",
       "        }    #T_af39b33e_b038_11ea_978f_c4b301d41ea1row0_col5 {\n",
       "            background-color:  #3b4cc0;\n",
       "            color:  #f1f1f1;\n",
       "        }    #T_af39b33e_b038_11ea_978f_c4b301d41ea1row0_col6 {\n",
       "            background-color:  #445acc;\n",
       "            color:  #f1f1f1;\n",
       "        }    #T_af39b33e_b038_11ea_978f_c4b301d41ea1row0_col7 {\n",
       "            background-color:  #e5d8d1;\n",
       "            color:  #000000;\n",
       "        }    #T_af39b33e_b038_11ea_978f_c4b301d41ea1row0_col8 {\n",
       "            background-color:  #4b64d5;\n",
       "            color:  #f1f1f1;\n",
       "        }    #T_af39b33e_b038_11ea_978f_c4b301d41ea1row1_col0 {\n",
       "            background-color:  #5b7ae5;\n",
       "            color:  #000000;\n",
       "        }    #T_af39b33e_b038_11ea_978f_c4b301d41ea1row1_col1 {\n",
       "            background-color:  #b40426;\n",
       "            color:  #f1f1f1;\n",
       "        }    #T_af39b33e_b038_11ea_978f_c4b301d41ea1row1_col2 {\n",
       "            background-color:  #82a6fb;\n",
       "            color:  #000000;\n",
       "        }    #T_af39b33e_b038_11ea_978f_c4b301d41ea1row1_col3 {\n",
       "            background-color:  #6b8df0;\n",
       "            color:  #000000;\n",
       "        }    #T_af39b33e_b038_11ea_978f_c4b301d41ea1row1_col4 {\n",
       "            background-color:  #cedaeb;\n",
       "            color:  #000000;\n",
       "        }    #T_af39b33e_b038_11ea_978f_c4b301d41ea1row1_col5 {\n",
       "            background-color:  #81a4fb;\n",
       "            color:  #000000;\n",
       "        }    #T_af39b33e_b038_11ea_978f_c4b301d41ea1row1_col6 {\n",
       "            background-color:  #6485ec;\n",
       "            color:  #000000;\n",
       "        }    #T_af39b33e_b038_11ea_978f_c4b301d41ea1row1_col7 {\n",
       "            background-color:  #8caffe;\n",
       "            color:  #000000;\n",
       "        }    #T_af39b33e_b038_11ea_978f_c4b301d41ea1row1_col8 {\n",
       "            background-color:  #bcd2f7;\n",
       "            color:  #000000;\n",
       "        }    #T_af39b33e_b038_11ea_978f_c4b301d41ea1row2_col0 {\n",
       "            background-color:  #779af7;\n",
       "            color:  #000000;\n",
       "        }    #T_af39b33e_b038_11ea_978f_c4b301d41ea1row2_col1 {\n",
       "            background-color:  #5b7ae5;\n",
       "            color:  #000000;\n",
       "        }    #T_af39b33e_b038_11ea_978f_c4b301d41ea1row2_col2 {\n",
       "            background-color:  #b40426;\n",
       "            color:  #f1f1f1;\n",
       "        }    #T_af39b33e_b038_11ea_978f_c4b301d41ea1row2_col3 {\n",
       "            background-color:  #5f7fe8;\n",
       "            color:  #000000;\n",
       "        }    #T_af39b33e_b038_11ea_978f_c4b301d41ea1row2_col4 {\n",
       "            background-color:  #3c4ec2;\n",
       "            color:  #f1f1f1;\n",
       "        }    #T_af39b33e_b038_11ea_978f_c4b301d41ea1row2_col5 {\n",
       "            background-color:  #93b5fe;\n",
       "            color:  #000000;\n",
       "        }    #T_af39b33e_b038_11ea_978f_c4b301d41ea1row2_col6 {\n",
       "            background-color:  #3b4cc0;\n",
       "            color:  #f1f1f1;\n",
       "        }    #T_af39b33e_b038_11ea_978f_c4b301d41ea1row2_col7 {\n",
       "            background-color:  #a1c0ff;\n",
       "            color:  #000000;\n",
       "        }    #T_af39b33e_b038_11ea_978f_c4b301d41ea1row2_col8 {\n",
       "            background-color:  #3b4cc0;\n",
       "            color:  #f1f1f1;\n",
       "        }    #T_af39b33e_b038_11ea_978f_c4b301d41ea1row3_col0 {\n",
       "            background-color:  #506bda;\n",
       "            color:  #000000;\n",
       "        }    #T_af39b33e_b038_11ea_978f_c4b301d41ea1row3_col1 {\n",
       "            background-color:  #5f7fe8;\n",
       "            color:  #000000;\n",
       "        }    #T_af39b33e_b038_11ea_978f_c4b301d41ea1row3_col2 {\n",
       "            background-color:  #7b9ff9;\n",
       "            color:  #000000;\n",
       "        }    #T_af39b33e_b038_11ea_978f_c4b301d41ea1row3_col3 {\n",
       "            background-color:  #b40426;\n",
       "            color:  #f1f1f1;\n",
       "        }    #T_af39b33e_b038_11ea_978f_c4b301d41ea1row3_col4 {\n",
       "            background-color:  #6384eb;\n",
       "            color:  #000000;\n",
       "        }    #T_af39b33e_b038_11ea_978f_c4b301d41ea1row3_col5 {\n",
       "            background-color:  #ead4c8;\n",
       "            color:  #000000;\n",
       "        }    #T_af39b33e_b038_11ea_978f_c4b301d41ea1row3_col6 {\n",
       "            background-color:  #5977e3;\n",
       "            color:  #000000;\n",
       "        }    #T_af39b33e_b038_11ea_978f_c4b301d41ea1row3_col7 {\n",
       "            background-color:  #5d7ce6;\n",
       "            color:  #000000;\n",
       "        }    #T_af39b33e_b038_11ea_978f_c4b301d41ea1row3_col8 {\n",
       "            background-color:  #6e90f2;\n",
       "            color:  #000000;\n",
       "        }    #T_af39b33e_b038_11ea_978f_c4b301d41ea1row4_col0 {\n",
       "            background-color:  #506bda;\n",
       "            color:  #000000;\n",
       "        }    #T_af39b33e_b038_11ea_978f_c4b301d41ea1row4_col1 {\n",
       "            background-color:  #c7d7f0;\n",
       "            color:  #000000;\n",
       "        }    #T_af39b33e_b038_11ea_978f_c4b301d41ea1row4_col2 {\n",
       "            background-color:  #5977e3;\n",
       "            color:  #000000;\n",
       "        }    #T_af39b33e_b038_11ea_978f_c4b301d41ea1row4_col3 {\n",
       "            background-color:  #6384eb;\n",
       "            color:  #000000;\n",
       "        }    #T_af39b33e_b038_11ea_978f_c4b301d41ea1row4_col4 {\n",
       "            background-color:  #b40426;\n",
       "            color:  #f1f1f1;\n",
       "        }    #T_af39b33e_b038_11ea_978f_c4b301d41ea1row4_col5 {\n",
       "            background-color:  #80a3fa;\n",
       "            color:  #000000;\n",
       "        }    #T_af39b33e_b038_11ea_978f_c4b301d41ea1row4_col6 {\n",
       "            background-color:  #5f7fe8;\n",
       "            color:  #000000;\n",
       "        }    #T_af39b33e_b038_11ea_978f_c4b301d41ea1row4_col7 {\n",
       "            background-color:  #6788ee;\n",
       "            color:  #000000;\n",
       "        }    #T_af39b33e_b038_11ea_978f_c4b301d41ea1row4_col8 {\n",
       "            background-color:  #9abbff;\n",
       "            color:  #000000;\n",
       "        }    #T_af39b33e_b038_11ea_978f_c4b301d41ea1row5_col0 {\n",
       "            background-color:  #3b4cc0;\n",
       "            color:  #f1f1f1;\n",
       "        }    #T_af39b33e_b038_11ea_978f_c4b301d41ea1row5_col1 {\n",
       "            background-color:  #6180e9;\n",
       "            color:  #000000;\n",
       "        }    #T_af39b33e_b038_11ea_978f_c4b301d41ea1row5_col2 {\n",
       "            background-color:  #98b9ff;\n",
       "            color:  #000000;\n",
       "        }    #T_af39b33e_b038_11ea_978f_c4b301d41ea1row5_col3 {\n",
       "            background-color:  #e2dad5;\n",
       "            color:  #000000;\n",
       "        }    #T_af39b33e_b038_11ea_978f_c4b301d41ea1row5_col4 {\n",
       "            background-color:  #6a8bef;\n",
       "            color:  #000000;\n",
       "        }    #T_af39b33e_b038_11ea_978f_c4b301d41ea1row5_col5 {\n",
       "            background-color:  #b40426;\n",
       "            color:  #f1f1f1;\n",
       "        }    #T_af39b33e_b038_11ea_978f_c4b301d41ea1row5_col6 {\n",
       "            background-color:  #6a8bef;\n",
       "            color:  #000000;\n",
       "        }    #T_af39b33e_b038_11ea_978f_c4b301d41ea1row5_col7 {\n",
       "            background-color:  #3b4cc0;\n",
       "            color:  #f1f1f1;\n",
       "        }    #T_af39b33e_b038_11ea_978f_c4b301d41ea1row5_col8 {\n",
       "            background-color:  #7093f3;\n",
       "            color:  #000000;\n",
       "        }    #T_af39b33e_b038_11ea_978f_c4b301d41ea1row6_col0 {\n",
       "            background-color:  #3d50c3;\n",
       "            color:  #f1f1f1;\n",
       "        }    #T_af39b33e_b038_11ea_978f_c4b301d41ea1row6_col1 {\n",
       "            background-color:  #3d50c3;\n",
       "            color:  #f1f1f1;\n",
       "        }    #T_af39b33e_b038_11ea_978f_c4b301d41ea1row6_col2 {\n",
       "            background-color:  #3b4cc0;\n",
       "            color:  #f1f1f1;\n",
       "        }    #T_af39b33e_b038_11ea_978f_c4b301d41ea1row6_col3 {\n",
       "            background-color:  #3d50c3;\n",
       "            color:  #f1f1f1;\n",
       "        }    #T_af39b33e_b038_11ea_978f_c4b301d41ea1row6_col4 {\n",
       "            background-color:  #4358cb;\n",
       "            color:  #f1f1f1;\n",
       "        }    #T_af39b33e_b038_11ea_978f_c4b301d41ea1row6_col5 {\n",
       "            background-color:  #6384eb;\n",
       "            color:  #000000;\n",
       "        }    #T_af39b33e_b038_11ea_978f_c4b301d41ea1row6_col6 {\n",
       "            background-color:  #b40426;\n",
       "            color:  #f1f1f1;\n",
       "        }    #T_af39b33e_b038_11ea_978f_c4b301d41ea1row6_col7 {\n",
       "            background-color:  #3c4ec2;\n",
       "            color:  #f1f1f1;\n",
       "        }    #T_af39b33e_b038_11ea_978f_c4b301d41ea1row6_col8 {\n",
       "            background-color:  #3b4cc0;\n",
       "            color:  #f1f1f1;\n",
       "        }    #T_af39b33e_b038_11ea_978f_c4b301d41ea1row7_col0 {\n",
       "            background-color:  #e5d8d1;\n",
       "            color:  #000000;\n",
       "        }    #T_af39b33e_b038_11ea_978f_c4b301d41ea1row7_col1 {\n",
       "            background-color:  #6c8ff1;\n",
       "            color:  #000000;\n",
       "        }    #T_af39b33e_b038_11ea_978f_c4b301d41ea1row7_col2 {\n",
       "            background-color:  #a6c4fe;\n",
       "            color:  #000000;\n",
       "        }    #T_af39b33e_b038_11ea_978f_c4b301d41ea1row7_col3 {\n",
       "            background-color:  #485fd1;\n",
       "            color:  #f1f1f1;\n",
       "        }    #T_af39b33e_b038_11ea_978f_c4b301d41ea1row7_col4 {\n",
       "            background-color:  #536edd;\n",
       "            color:  #000000;\n",
       "        }    #T_af39b33e_b038_11ea_978f_c4b301d41ea1row7_col5 {\n",
       "            background-color:  #3b4cc0;\n",
       "            color:  #f1f1f1;\n",
       "        }    #T_af39b33e_b038_11ea_978f_c4b301d41ea1row7_col6 {\n",
       "            background-color:  #445acc;\n",
       "            color:  #f1f1f1;\n",
       "        }    #T_af39b33e_b038_11ea_978f_c4b301d41ea1row7_col7 {\n",
       "            background-color:  #b40426;\n",
       "            color:  #f1f1f1;\n",
       "        }    #T_af39b33e_b038_11ea_978f_c4b301d41ea1row7_col8 {\n",
       "            background-color:  #516ddb;\n",
       "            color:  #000000;\n",
       "        }    #T_af39b33e_b038_11ea_978f_c4b301d41ea1row8_col0 {\n",
       "            background-color:  #7b9ff9;\n",
       "            color:  #000000;\n",
       "        }    #T_af39b33e_b038_11ea_978f_c4b301d41ea1row8_col1 {\n",
       "            background-color:  #c6d6f1;\n",
       "            color:  #000000;\n",
       "        }    #T_af39b33e_b038_11ea_978f_c4b301d41ea1row8_col2 {\n",
       "            background-color:  #7295f4;\n",
       "            color:  #000000;\n",
       "        }    #T_af39b33e_b038_11ea_978f_c4b301d41ea1row8_col3 {\n",
       "            background-color:  #88abfd;\n",
       "            color:  #000000;\n",
       "        }    #T_af39b33e_b038_11ea_978f_c4b301d41ea1row8_col4 {\n",
       "            background-color:  #afcafc;\n",
       "            color:  #000000;\n",
       "        }    #T_af39b33e_b038_11ea_978f_c4b301d41ea1row8_col5 {\n",
       "            background-color:  #9ebeff;\n",
       "            color:  #000000;\n",
       "        }    #T_af39b33e_b038_11ea_978f_c4b301d41ea1row8_col6 {\n",
       "            background-color:  #7295f4;\n",
       "            color:  #000000;\n",
       "        }    #T_af39b33e_b038_11ea_978f_c4b301d41ea1row8_col7 {\n",
       "            background-color:  #81a4fb;\n",
       "            color:  #000000;\n",
       "        }    #T_af39b33e_b038_11ea_978f_c4b301d41ea1row8_col8 {\n",
       "            background-color:  #b40426;\n",
       "            color:  #f1f1f1;\n",
       "        }</style><table id=\"T_af39b33e_b038_11ea_978f_c4b301d41ea1\" ><thead>    <tr>        <th class=\"blank level0\" ></th>        <th class=\"col_heading level0 col0\" >Pregnancies</th>        <th class=\"col_heading level0 col1\" >Glucose</th>        <th class=\"col_heading level0 col2\" >BloodPressure</th>        <th class=\"col_heading level0 col3\" >SkinThickness</th>        <th class=\"col_heading level0 col4\" >Insulin</th>        <th class=\"col_heading level0 col5\" >BMI</th>        <th class=\"col_heading level0 col6\" >DiabetesPedigreeFunction</th>        <th class=\"col_heading level0 col7\" >Age</th>        <th class=\"col_heading level0 col8\" >Outcome</th>    </tr></thead><tbody>\n",
       "                <tr>\n",
       "                        <th id=\"T_af39b33e_b038_11ea_978f_c4b301d41ea1level0_row0\" class=\"row_heading level0 row0\" >Pregnancies</th>\n",
       "                        <td id=\"T_af39b33e_b038_11ea_978f_c4b301d41ea1row0_col0\" class=\"data row0 col0\" >1</td>\n",
       "                        <td id=\"T_af39b33e_b038_11ea_978f_c4b301d41ea1row0_col1\" class=\"data row0 col1\" >0.129867</td>\n",
       "                        <td id=\"T_af39b33e_b038_11ea_978f_c4b301d41ea1row0_col2\" class=\"data row0 col2\" >0.208935</td>\n",
       "                        <td id=\"T_af39b33e_b038_11ea_978f_c4b301d41ea1row0_col3\" class=\"data row0 col3\" >0.0941718</td>\n",
       "                        <td id=\"T_af39b33e_b038_11ea_978f_c4b301d41ea1row0_col4\" class=\"data row0 col4\" >0.0935457</td>\n",
       "                        <td id=\"T_af39b33e_b038_11ea_978f_c4b301d41ea1row0_col5\" class=\"data row0 col5\" >0.0241267</td>\n",
       "                        <td id=\"T_af39b33e_b038_11ea_978f_c4b301d41ea1row0_col6\" class=\"data row0 col6\" >0.0335227</td>\n",
       "                        <td id=\"T_af39b33e_b038_11ea_978f_c4b301d41ea1row0_col7\" class=\"data row0 col7\" >0.544341</td>\n",
       "                        <td id=\"T_af39b33e_b038_11ea_978f_c4b301d41ea1row0_col8\" class=\"data row0 col8\" >0.221898</td>\n",
       "            </tr>\n",
       "            <tr>\n",
       "                        <th id=\"T_af39b33e_b038_11ea_978f_c4b301d41ea1level0_row1\" class=\"row_heading level0 row1\" >Glucose</th>\n",
       "                        <td id=\"T_af39b33e_b038_11ea_978f_c4b301d41ea1row1_col0\" class=\"data row1 col0\" >0.129867</td>\n",
       "                        <td id=\"T_af39b33e_b038_11ea_978f_c4b301d41ea1row1_col1\" class=\"data row1 col1\" >1</td>\n",
       "                        <td id=\"T_af39b33e_b038_11ea_978f_c4b301d41ea1row1_col2\" class=\"data row1 col2\" >0.224356</td>\n",
       "                        <td id=\"T_af39b33e_b038_11ea_978f_c4b301d41ea1row1_col3\" class=\"data row1 col3\" >0.23504</td>\n",
       "                        <td id=\"T_af39b33e_b038_11ea_978f_c4b301d41ea1row1_col4\" class=\"data row1 col4\" >0.497789</td>\n",
       "                        <td id=\"T_af39b33e_b038_11ea_978f_c4b301d41ea1row1_col5\" class=\"data row1 col5\" >0.235253</td>\n",
       "                        <td id=\"T_af39b33e_b038_11ea_978f_c4b301d41ea1row1_col6\" class=\"data row1 col6\" >0.138125</td>\n",
       "                        <td id=\"T_af39b33e_b038_11ea_978f_c4b301d41ea1row1_col7\" class=\"data row1 col7\" >0.268566</td>\n",
       "                        <td id=\"T_af39b33e_b038_11ea_978f_c4b301d41ea1row1_col8\" class=\"data row1 col8\" >0.495954</td>\n",
       "            </tr>\n",
       "            <tr>\n",
       "                        <th id=\"T_af39b33e_b038_11ea_978f_c4b301d41ea1level0_row2\" class=\"row_heading level0 row2\" >BloodPressure</th>\n",
       "                        <td id=\"T_af39b33e_b038_11ea_978f_c4b301d41ea1row2_col0\" class=\"data row2 col0\" >0.208935</td>\n",
       "                        <td id=\"T_af39b33e_b038_11ea_978f_c4b301d41ea1row2_col1\" class=\"data row2 col1\" >0.224356</td>\n",
       "                        <td id=\"T_af39b33e_b038_11ea_978f_c4b301d41ea1row2_col2\" class=\"data row2 col2\" >1</td>\n",
       "                        <td id=\"T_af39b33e_b038_11ea_978f_c4b301d41ea1row2_col3\" class=\"data row2 col3\" >0.203453</td>\n",
       "                        <td id=\"T_af39b33e_b038_11ea_978f_c4b301d41ea1row2_col4\" class=\"data row2 col4\" >0.0999962</td>\n",
       "                        <td id=\"T_af39b33e_b038_11ea_978f_c4b301d41ea1row2_col5\" class=\"data row2 col5\" >0.286518</td>\n",
       "                        <td id=\"T_af39b33e_b038_11ea_978f_c4b301d41ea1row2_col6\" class=\"data row2 col6\" >0.00226411</td>\n",
       "                        <td id=\"T_af39b33e_b038_11ea_978f_c4b301d41ea1row2_col7\" class=\"data row2 col7\" >0.324439</td>\n",
       "                        <td id=\"T_af39b33e_b038_11ea_978f_c4b301d41ea1row2_col8\" class=\"data row2 col8\" >0.175087</td>\n",
       "            </tr>\n",
       "            <tr>\n",
       "                        <th id=\"T_af39b33e_b038_11ea_978f_c4b301d41ea1level0_row3\" class=\"row_heading level0 row3\" >SkinThickness</th>\n",
       "                        <td id=\"T_af39b33e_b038_11ea_978f_c4b301d41ea1row3_col0\" class=\"data row3 col0\" >0.0941718</td>\n",
       "                        <td id=\"T_af39b33e_b038_11ea_978f_c4b301d41ea1row3_col1\" class=\"data row3 col1\" >0.23504</td>\n",
       "                        <td id=\"T_af39b33e_b038_11ea_978f_c4b301d41ea1row3_col2\" class=\"data row3 col2\" >0.203453</td>\n",
       "                        <td id=\"T_af39b33e_b038_11ea_978f_c4b301d41ea1row3_col3\" class=\"data row3 col3\" >1</td>\n",
       "                        <td id=\"T_af39b33e_b038_11ea_978f_c4b301d41ea1row3_col4\" class=\"data row3 col4\" >0.212573</td>\n",
       "                        <td id=\"T_af39b33e_b038_11ea_978f_c4b301d41ea1row3_col5\" class=\"data row3 col5\" >0.565443</td>\n",
       "                        <td id=\"T_af39b33e_b038_11ea_978f_c4b301d41ea1row3_col6\" class=\"data row3 col6\" >0.102426</td>\n",
       "                        <td id=\"T_af39b33e_b038_11ea_978f_c4b301d41ea1row3_col7\" class=\"data row3 col7\" >0.135916</td>\n",
       "                        <td id=\"T_af39b33e_b038_11ea_978f_c4b301d41ea1row3_col8\" class=\"data row3 col8\" >0.308094</td>\n",
       "            </tr>\n",
       "            <tr>\n",
       "                        <th id=\"T_af39b33e_b038_11ea_978f_c4b301d41ea1level0_row4\" class=\"row_heading level0 row4\" >Insulin</th>\n",
       "                        <td id=\"T_af39b33e_b038_11ea_978f_c4b301d41ea1row4_col0\" class=\"data row4 col0\" >0.0935457</td>\n",
       "                        <td id=\"T_af39b33e_b038_11ea_978f_c4b301d41ea1row4_col1\" class=\"data row4 col1\" >0.497789</td>\n",
       "                        <td id=\"T_af39b33e_b038_11ea_978f_c4b301d41ea1row4_col2\" class=\"data row4 col2\" >0.0999962</td>\n",
       "                        <td id=\"T_af39b33e_b038_11ea_978f_c4b301d41ea1row4_col3\" class=\"data row4 col3\" >0.212573</td>\n",
       "                        <td id=\"T_af39b33e_b038_11ea_978f_c4b301d41ea1row4_col4\" class=\"data row4 col4\" >1</td>\n",
       "                        <td id=\"T_af39b33e_b038_11ea_978f_c4b301d41ea1row4_col5\" class=\"data row4 col5\" >0.231533</td>\n",
       "                        <td id=\"T_af39b33e_b038_11ea_978f_c4b301d41ea1row4_col6\" class=\"data row4 col6\" >0.121716</td>\n",
       "                        <td id=\"T_af39b33e_b038_11ea_978f_c4b301d41ea1row4_col7\" class=\"data row4 col7\" >0.165149</td>\n",
       "                        <td id=\"T_af39b33e_b038_11ea_978f_c4b301d41ea1row4_col8\" class=\"data row4 col8\" >0.410918</td>\n",
       "            </tr>\n",
       "            <tr>\n",
       "                        <th id=\"T_af39b33e_b038_11ea_978f_c4b301d41ea1level0_row5\" class=\"row_heading level0 row5\" >BMI</th>\n",
       "                        <td id=\"T_af39b33e_b038_11ea_978f_c4b301d41ea1row5_col0\" class=\"data row5 col0\" >0.0241267</td>\n",
       "                        <td id=\"T_af39b33e_b038_11ea_978f_c4b301d41ea1row5_col1\" class=\"data row5 col1\" >0.235253</td>\n",
       "                        <td id=\"T_af39b33e_b038_11ea_978f_c4b301d41ea1row5_col2\" class=\"data row5 col2\" >0.286518</td>\n",
       "                        <td id=\"T_af39b33e_b038_11ea_978f_c4b301d41ea1row5_col3\" class=\"data row5 col3\" >0.565443</td>\n",
       "                        <td id=\"T_af39b33e_b038_11ea_978f_c4b301d41ea1row5_col4\" class=\"data row5 col4\" >0.231533</td>\n",
       "                        <td id=\"T_af39b33e_b038_11ea_978f_c4b301d41ea1row5_col5\" class=\"data row5 col5\" >1</td>\n",
       "                        <td id=\"T_af39b33e_b038_11ea_978f_c4b301d41ea1row5_col6\" class=\"data row5 col6\" >0.15253</td>\n",
       "                        <td id=\"T_af39b33e_b038_11ea_978f_c4b301d41ea1row5_col7\" class=\"data row5 col7\" >0.027578</td>\n",
       "                        <td id=\"T_af39b33e_b038_11ea_978f_c4b301d41ea1row5_col8\" class=\"data row5 col8\" >0.315271</td>\n",
       "            </tr>\n",
       "            <tr>\n",
       "                        <th id=\"T_af39b33e_b038_11ea_978f_c4b301d41ea1level0_row6\" class=\"row_heading level0 row6\" >DiabetesPedigreeFunction</th>\n",
       "                        <td id=\"T_af39b33e_b038_11ea_978f_c4b301d41ea1row6_col0\" class=\"data row6 col0\" >0.0335227</td>\n",
       "                        <td id=\"T_af39b33e_b038_11ea_978f_c4b301d41ea1row6_col1\" class=\"data row6 col1\" >0.138125</td>\n",
       "                        <td id=\"T_af39b33e_b038_11ea_978f_c4b301d41ea1row6_col2\" class=\"data row6 col2\" >0.00226411</td>\n",
       "                        <td id=\"T_af39b33e_b038_11ea_978f_c4b301d41ea1row6_col3\" class=\"data row6 col3\" >0.102426</td>\n",
       "                        <td id=\"T_af39b33e_b038_11ea_978f_c4b301d41ea1row6_col4\" class=\"data row6 col4\" >0.121716</td>\n",
       "                        <td id=\"T_af39b33e_b038_11ea_978f_c4b301d41ea1row6_col5\" class=\"data row6 col5\" >0.15253</td>\n",
       "                        <td id=\"T_af39b33e_b038_11ea_978f_c4b301d41ea1row6_col6\" class=\"data row6 col6\" >1</td>\n",
       "                        <td id=\"T_af39b33e_b038_11ea_978f_c4b301d41ea1row6_col7\" class=\"data row6 col7\" >0.0335613</td>\n",
       "                        <td id=\"T_af39b33e_b038_11ea_978f_c4b301d41ea1row6_col8\" class=\"data row6 col8\" >0.173844</td>\n",
       "            </tr>\n",
       "            <tr>\n",
       "                        <th id=\"T_af39b33e_b038_11ea_978f_c4b301d41ea1level0_row7\" class=\"row_heading level0 row7\" >Age</th>\n",
       "                        <td id=\"T_af39b33e_b038_11ea_978f_c4b301d41ea1row7_col0\" class=\"data row7 col0\" >0.544341</td>\n",
       "                        <td id=\"T_af39b33e_b038_11ea_978f_c4b301d41ea1row7_col1\" class=\"data row7 col1\" >0.268566</td>\n",
       "                        <td id=\"T_af39b33e_b038_11ea_978f_c4b301d41ea1row7_col2\" class=\"data row7 col2\" >0.324439</td>\n",
       "                        <td id=\"T_af39b33e_b038_11ea_978f_c4b301d41ea1row7_col3\" class=\"data row7 col3\" >0.135916</td>\n",
       "                        <td id=\"T_af39b33e_b038_11ea_978f_c4b301d41ea1row7_col4\" class=\"data row7 col4\" >0.165149</td>\n",
       "                        <td id=\"T_af39b33e_b038_11ea_978f_c4b301d41ea1row7_col5\" class=\"data row7 col5\" >0.027578</td>\n",
       "                        <td id=\"T_af39b33e_b038_11ea_978f_c4b301d41ea1row7_col6\" class=\"data row7 col6\" >0.0335613</td>\n",
       "                        <td id=\"T_af39b33e_b038_11ea_978f_c4b301d41ea1row7_col7\" class=\"data row7 col7\" >1</td>\n",
       "                        <td id=\"T_af39b33e_b038_11ea_978f_c4b301d41ea1row7_col8\" class=\"data row7 col8\" >0.238356</td>\n",
       "            </tr>\n",
       "            <tr>\n",
       "                        <th id=\"T_af39b33e_b038_11ea_978f_c4b301d41ea1level0_row8\" class=\"row_heading level0 row8\" >Outcome</th>\n",
       "                        <td id=\"T_af39b33e_b038_11ea_978f_c4b301d41ea1row8_col0\" class=\"data row8 col0\" >0.221898</td>\n",
       "                        <td id=\"T_af39b33e_b038_11ea_978f_c4b301d41ea1row8_col1\" class=\"data row8 col1\" >0.495954</td>\n",
       "                        <td id=\"T_af39b33e_b038_11ea_978f_c4b301d41ea1row8_col2\" class=\"data row8 col2\" >0.175087</td>\n",
       "                        <td id=\"T_af39b33e_b038_11ea_978f_c4b301d41ea1row8_col3\" class=\"data row8 col3\" >0.308094</td>\n",
       "                        <td id=\"T_af39b33e_b038_11ea_978f_c4b301d41ea1row8_col4\" class=\"data row8 col4\" >0.410918</td>\n",
       "                        <td id=\"T_af39b33e_b038_11ea_978f_c4b301d41ea1row8_col5\" class=\"data row8 col5\" >0.315271</td>\n",
       "                        <td id=\"T_af39b33e_b038_11ea_978f_c4b301d41ea1row8_col6\" class=\"data row8 col6\" >0.173844</td>\n",
       "                        <td id=\"T_af39b33e_b038_11ea_978f_c4b301d41ea1row8_col7\" class=\"data row8 col7\" >0.238356</td>\n",
       "                        <td id=\"T_af39b33e_b038_11ea_978f_c4b301d41ea1row8_col8\" class=\"data row8 col8\" >1</td>\n",
       "            </tr>\n",
       "    </tbody></table>"
      ],
      "text/plain": [
       "<pandas.io.formats.style.Styler at 0x1a178ea050>"
      ]
     },
     "execution_count": 21,
     "metadata": {},
     "output_type": "execute_result"
    }
   ],
   "source": [
    "corr = abs(df_impute.corr())\n",
    "corr.style.background_gradient(cmap='coolwarm')"
   ]
  },
  {
   "cell_type": "code",
   "execution_count": 22,
   "metadata": {},
   "outputs": [
    {
     "data": {
      "text/html": [
       "<div>\n",
       "<style scoped>\n",
       "    .dataframe tbody tr th:only-of-type {\n",
       "        vertical-align: middle;\n",
       "    }\n",
       "\n",
       "    .dataframe tbody tr th {\n",
       "        vertical-align: top;\n",
       "    }\n",
       "\n",
       "    .dataframe thead th {\n",
       "        text-align: right;\n",
       "    }\n",
       "</style>\n",
       "<table border=\"1\" class=\"dataframe\">\n",
       "  <thead>\n",
       "    <tr style=\"text-align: right;\">\n",
       "      <th></th>\n",
       "      <th>Pregnancies</th>\n",
       "      <th>Glucose</th>\n",
       "      <th>BloodPressure</th>\n",
       "      <th>SkinThickness</th>\n",
       "      <th>Insulin</th>\n",
       "      <th>BMI</th>\n",
       "      <th>DiabetesPedigreeFunction</th>\n",
       "      <th>Age</th>\n",
       "      <th>Outcome</th>\n",
       "    </tr>\n",
       "  </thead>\n",
       "  <tbody>\n",
       "    <tr>\n",
       "      <td>Pregnancies</td>\n",
       "      <td>1.000000</td>\n",
       "      <td>0.129867</td>\n",
       "      <td>0.208935</td>\n",
       "      <td>0.094172</td>\n",
       "      <td>0.093546</td>\n",
       "      <td>0.024127</td>\n",
       "      <td>0.033523</td>\n",
       "      <td>0.544341</td>\n",
       "      <td>0.221898</td>\n",
       "    </tr>\n",
       "    <tr>\n",
       "      <td>Glucose</td>\n",
       "      <td>0.129867</td>\n",
       "      <td>1.000000</td>\n",
       "      <td>0.224356</td>\n",
       "      <td>0.235040</td>\n",
       "      <td>0.497789</td>\n",
       "      <td>0.235253</td>\n",
       "      <td>0.138125</td>\n",
       "      <td>0.268566</td>\n",
       "      <td>0.495954</td>\n",
       "    </tr>\n",
       "    <tr>\n",
       "      <td>BloodPressure</td>\n",
       "      <td>0.208935</td>\n",
       "      <td>0.224356</td>\n",
       "      <td>1.000000</td>\n",
       "      <td>0.203453</td>\n",
       "      <td>0.099996</td>\n",
       "      <td>0.286518</td>\n",
       "      <td>0.002264</td>\n",
       "      <td>0.324439</td>\n",
       "      <td>0.175087</td>\n",
       "    </tr>\n",
       "    <tr>\n",
       "      <td>SkinThickness</td>\n",
       "      <td>0.094172</td>\n",
       "      <td>0.235040</td>\n",
       "      <td>0.203453</td>\n",
       "      <td>1.000000</td>\n",
       "      <td>0.212573</td>\n",
       "      <td>0.565443</td>\n",
       "      <td>0.102426</td>\n",
       "      <td>0.135916</td>\n",
       "      <td>0.308094</td>\n",
       "    </tr>\n",
       "    <tr>\n",
       "      <td>Insulin</td>\n",
       "      <td>0.093546</td>\n",
       "      <td>0.497789</td>\n",
       "      <td>0.099996</td>\n",
       "      <td>0.212573</td>\n",
       "      <td>1.000000</td>\n",
       "      <td>0.231533</td>\n",
       "      <td>0.121716</td>\n",
       "      <td>0.165149</td>\n",
       "      <td>0.410918</td>\n",
       "    </tr>\n",
       "    <tr>\n",
       "      <td>BMI</td>\n",
       "      <td>0.024127</td>\n",
       "      <td>0.235253</td>\n",
       "      <td>0.286518</td>\n",
       "      <td>0.565443</td>\n",
       "      <td>0.231533</td>\n",
       "      <td>1.000000</td>\n",
       "      <td>0.152530</td>\n",
       "      <td>0.027578</td>\n",
       "      <td>0.315271</td>\n",
       "    </tr>\n",
       "    <tr>\n",
       "      <td>DiabetesPedigreeFunction</td>\n",
       "      <td>0.033523</td>\n",
       "      <td>0.138125</td>\n",
       "      <td>0.002264</td>\n",
       "      <td>0.102426</td>\n",
       "      <td>0.121716</td>\n",
       "      <td>0.152530</td>\n",
       "      <td>1.000000</td>\n",
       "      <td>0.033561</td>\n",
       "      <td>0.173844</td>\n",
       "    </tr>\n",
       "    <tr>\n",
       "      <td>Age</td>\n",
       "      <td>0.544341</td>\n",
       "      <td>0.268566</td>\n",
       "      <td>0.324439</td>\n",
       "      <td>0.135916</td>\n",
       "      <td>0.165149</td>\n",
       "      <td>0.027578</td>\n",
       "      <td>0.033561</td>\n",
       "      <td>1.000000</td>\n",
       "      <td>0.238356</td>\n",
       "    </tr>\n",
       "    <tr>\n",
       "      <td>Outcome</td>\n",
       "      <td>0.221898</td>\n",
       "      <td>0.495954</td>\n",
       "      <td>0.175087</td>\n",
       "      <td>0.308094</td>\n",
       "      <td>0.410918</td>\n",
       "      <td>0.315271</td>\n",
       "      <td>0.173844</td>\n",
       "      <td>0.238356</td>\n",
       "      <td>1.000000</td>\n",
       "    </tr>\n",
       "  </tbody>\n",
       "</table>\n",
       "</div>"
      ],
      "text/plain": [
       "                          Pregnancies   Glucose  BloodPressure  SkinThickness  \\\n",
       "Pregnancies                  1.000000  0.129867       0.208935       0.094172   \n",
       "Glucose                      0.129867  1.000000       0.224356       0.235040   \n",
       "BloodPressure                0.208935  0.224356       1.000000       0.203453   \n",
       "SkinThickness                0.094172  0.235040       0.203453       1.000000   \n",
       "Insulin                      0.093546  0.497789       0.099996       0.212573   \n",
       "BMI                          0.024127  0.235253       0.286518       0.565443   \n",
       "DiabetesPedigreeFunction     0.033523  0.138125       0.002264       0.102426   \n",
       "Age                          0.544341  0.268566       0.324439       0.135916   \n",
       "Outcome                      0.221898  0.495954       0.175087       0.308094   \n",
       "\n",
       "                           Insulin       BMI  DiabetesPedigreeFunction  \\\n",
       "Pregnancies               0.093546  0.024127                  0.033523   \n",
       "Glucose                   0.497789  0.235253                  0.138125   \n",
       "BloodPressure             0.099996  0.286518                  0.002264   \n",
       "SkinThickness             0.212573  0.565443                  0.102426   \n",
       "Insulin                   1.000000  0.231533                  0.121716   \n",
       "BMI                       0.231533  1.000000                  0.152530   \n",
       "DiabetesPedigreeFunction  0.121716  0.152530                  1.000000   \n",
       "Age                       0.165149  0.027578                  0.033561   \n",
       "Outcome                   0.410918  0.315271                  0.173844   \n",
       "\n",
       "                               Age   Outcome  \n",
       "Pregnancies               0.544341  0.221898  \n",
       "Glucose                   0.268566  0.495954  \n",
       "BloodPressure             0.324439  0.175087  \n",
       "SkinThickness             0.135916  0.308094  \n",
       "Insulin                   0.165149  0.410918  \n",
       "BMI                       0.027578  0.315271  \n",
       "DiabetesPedigreeFunction  0.033561  0.173844  \n",
       "Age                       1.000000  0.238356  \n",
       "Outcome                   0.238356  1.000000  "
      ]
     },
     "execution_count": 22,
     "metadata": {},
     "output_type": "execute_result"
    }
   ],
   "source": [
    "corr_matrix = df_impute.corr().abs()\n",
    "corr_matrix"
   ]
  },
  {
   "cell_type": "code",
   "execution_count": 23,
   "metadata": {},
   "outputs": [
    {
     "name": "stdout",
     "output_type": "stream",
     "text": [
      "SkinThickness  BMI              0.565443\n",
      "Pregnancies    Age              0.544341\n",
      "Glucose        Insulin          0.497789\n",
      "               Outcome          0.495954\n",
      "Insulin        Outcome          0.410918\n",
      "BloodPressure  Age              0.324439\n",
      "BMI            Outcome          0.315271\n",
      "SkinThickness  Outcome          0.308094\n",
      "BloodPressure  BMI              0.286518\n",
      "Glucose        Age              0.268566\n",
      "Age            Outcome          0.238356\n",
      "Glucose        BMI              0.235253\n",
      "               SkinThickness    0.235040\n",
      "Insulin        BMI              0.231533\n",
      "Glucose        BloodPressure    0.224356\n",
      "dtype: float64\n"
     ]
    }
   ],
   "source": [
    "# Print correlations in descending order\n",
    "sol = (corr_matrix.where(np.triu(np.ones(corr_matrix.shape), k=1).astype(np.bool))\n",
    "                 .stack()\n",
    "                 .sort_values(ascending=False))\n",
    "print(sol[0:15])"
   ]
  },
  {
   "cell_type": "markdown",
   "metadata": {},
   "source": [
    "##### Features are not highly correlated . \n",
    "Maximum correlation is 0.56 b/w Skin Thickness and BMI"
   ]
  },
  {
   "cell_type": "markdown",
   "metadata": {},
   "source": [
    "On this data a few things to be noticed\n",
    "\n",
    "a) Data is imbalanced. I will work on upsampling or downsampling the data and refining the models in a future version of the code.\n",
    "\n",
    "b) As this is a classification problem I will first try to use Logistic Regression to see what results are obtained. Also I am going to apply it on the original dataset df, before I venture to apply it on the imputed data frame. \n",
    "\n",
    "c) What can you say about feature importances here ?"
   ]
  },
  {
   "cell_type": "markdown",
   "metadata": {},
   "source": [
    "*********\n",
    "#### Section 2 - Apply Logistic Regression on 'df'\n",
    "*********\n"
   ]
  },
  {
   "cell_type": "code",
   "execution_count": 24,
   "metadata": {},
   "outputs": [],
   "source": [
    "from sklearn.linear_model import LogisticRegression\n",
    "from sklearn.model_selection import KFold, train_test_split\n",
    "\n",
    "kf = KFold(n_splits=3, random_state = 2, shuffle=True)\n",
    "\n",
    "#LR = LogisticRegression(solver='lbfgs')\n",
    "LR = LogisticRegression(solver = 'liblinear')"
   ]
  },
  {
   "cell_type": "code",
   "execution_count": 25,
   "metadata": {},
   "outputs": [],
   "source": [
    "# Feature vector X is the first 8 columns of df\n",
    "X = df[df.columns[0:8]]\n",
    "# Target / Response vector is df.Outcome\n",
    "y = df.Outcome"
   ]
  },
  {
   "cell_type": "code",
   "execution_count": 26,
   "metadata": {},
   "outputs": [
    {
     "name": "stdout",
     "output_type": "stream",
     "text": [
      "576 192\n",
      "Training set score: 0.783\n",
      "Test set score: 0.750\n"
     ]
    }
   ],
   "source": [
    "# Call Logistic Regression. \n",
    "\n",
    "y_predict = np.empty((0,1), float)\n",
    "X_train, X_test, y_train, y_test = train_test_split(X, y, random_state=22)\n",
    "print(len(X_train), len(X_test))\n",
    "logreg = LR.fit(X_train, y_train)\n",
    "y_predict = np.append(y_predict,logreg.predict(X_test))\n",
    "\n",
    "print(\"Training set score: {:.3f}\".format(logreg.score(X_train, y_train)))\n",
    "print(\"Test set score: {:.3f}\".format(logreg.score(X_test, y_test)))"
   ]
  },
  {
   "cell_type": "code",
   "execution_count": 27,
   "metadata": {},
   "outputs": [
    {
     "data": {
      "text/plain": [
       "Text(0.5, 1.0, 'Histogram of residuals : Logistic Regression')"
      ]
     },
     "execution_count": 27,
     "metadata": {},
     "output_type": "execute_result"
    },
    {
     "data": {
      "image/png": "[encoded data removed]",
      "text/plain": [
       "<Figure size 432x288 with 1 Axes>"
      ]
     },
     "metadata": {
      "needs_background": "light"
     },
     "output_type": "display_data"
    }
   ],
   "source": [
    "residuals = y_test-y_predict\n",
    "\n",
    "# As we are classifying whether the Outcome is 0 or 1, the residuals range from -1, +1 \n",
    "# hence a histogram will clearly show  correct predictions as 0's\n",
    "\n",
    "plt.hist(residuals, facecolor = 'green',edgecolor= 'black',linewidth=3,alpha = 0.75)\n",
    "plt.xlim(-1.25,1.25)\n",
    "plt.title('Histogram of residuals : Logistic Regression')"
   ]
  },
  {
   "cell_type": "code",
   "execution_count": 28,
   "metadata": {},
   "outputs": [
    {
     "data": {
      "text/plain": [
       "array([[ 0.13662246],\n",
       "       [ 0.02858541],\n",
       "       [-0.01827692],\n",
       "       [-0.00214846],\n",
       "       [-0.00051546],\n",
       "       [ 0.05293945],\n",
       "       [ 0.50396212],\n",
       "       [ 0.00548986]])"
      ]
     },
     "execution_count": 28,
     "metadata": {},
     "output_type": "execute_result"
    }
   ],
   "source": [
    "# For feature importance I look at .coef_\n",
    "logreg.coef_.T"
   ]
  },
  {
   "cell_type": "code",
   "execution_count": 29,
   "metadata": {},
   "outputs": [
    {
     "data": {
      "text/plain": [
       "<matplotlib.legend.Legend at 0x1a183b7710>"
      ]
     },
     "execution_count": 29,
     "metadata": {},
     "output_type": "execute_result"
    },
    {
     "data": {
      "image/png": "[encoded data removed]",
      "text/plain": [
       "<Figure size 432x288 with 1 Axes>"
      ]
     },
     "metadata": {
      "needs_background": "light"
     },
     "output_type": "display_data"
    }
   ],
   "source": [
    "# Plot feature importances\n",
    "plt.plot(logreg.coef_.T, '>',markersize = 10, label=\"C=1\")\n",
    "plt.xticks(range(df.shape[1]-1), df.columns[0:8], rotation=90)\n",
    "plt.hlines(0, 0, df.shape[1]-1)\n",
    "plt.ylim(-0.05, 1.0)\n",
    "plt.xlabel(\"Coefficient index\")\n",
    "plt.ylabel(\"Coefficient magnitude\")\n",
    "plt.title('Feature importance:Logistic Regression')\n",
    "plt.legend()"
   ]
  },
  {
   "cell_type": "code",
   "execution_count": 30,
   "metadata": {
    "scrolled": true
   },
   "outputs": [
    {
     "name": "stdout",
     "output_type": "stream",
     "text": [
      "The calculated confusion matrix for the data set using Logistic Refressoin is\n",
      "[[115  13]\n",
      " [ 35  29]]\n"
     ]
    }
   ],
   "source": [
    "# VIEW metrics of this prediction\n",
    "from sklearn.metrics import confusion_matrix, classification_report\n",
    "confusion = confusion_matrix(y_test, y_predict)\n",
    "print('The calculated confusion matrix for the data set using Logistic Refressoin is')\n",
    "print(confusion)\n",
    "\n"
   ]
  },
  {
   "cell_type": "markdown",
   "metadata": {},
   "source": [
    "Note: First row is for Outcome = 0 \\\n",
    "      Second row is for Outcome = 1 \\\n",
    "About 50%  of class 1 was accurately predicted !!, i.e recall = TP/(TP+FN) at 50% is low\\\n",
    "Check  interpretation using classification report\n"
   ]
  },
  {
   "cell_type": "code",
   "execution_count": 31,
   "metadata": {},
   "outputs": [
    {
     "name": "stdout",
     "output_type": "stream",
     "text": [
      "              precision    recall  f1-score   support\n",
      "\n",
      "           0       0.77      0.90      0.83       128\n",
      "           1       0.69      0.45      0.55        64\n",
      "\n",
      "    accuracy                           0.75       192\n",
      "   macro avg       0.73      0.68      0.69       192\n",
      "weighted avg       0.74      0.75      0.73       192\n",
      "\n"
     ]
    }
   ],
   "source": [
    "print(classification_report(y_test, logreg.predict(X_test)))"
   ]
  },
  {
   "cell_type": "code",
   "execution_count": 32,
   "metadata": {},
   "outputs": [
    {
     "data": {
      "text/plain": [
       "Text(0.5, 1.0, 'ROC curve: Logistic Regression')"
      ]
     },
     "execution_count": 32,
     "metadata": {},
     "output_type": "execute_result"
    },
    {
     "data": {
      "image/png": "[encoded data removed]",
      "text/plain": [
       "<Figure size 432x288 with 1 Axes>"
      ]
     },
     "metadata": {
      "needs_background": "light"
     },
     "output_type": "display_data"
    }
   ],
   "source": [
    " from sklearn.metrics import roc_curve\n",
    "\n",
    "fpr, tpr, thresholds = roc_curve(y_test, logreg.decision_function(X_test))\n",
    "AUC = metrics.auc(fpr,tpr)\n",
    "\n",
    "plt.plot(fpr, tpr, label=\"ROC Curve with AUC = %0.2f\" % AUC)\n",
    "plt.xlabel(\"FPR\")\n",
    "plt.ylabel(\"TPR (recall)\")\n",
    "plt.legend(loc=4)\n",
    "plt.title('ROC curve: Logistic Regression')\n"
   ]
  },
  {
   "cell_type": "markdown",
   "metadata": {},
   "source": [
    "#### Results\n",
    "\n",
    "a) Using logistic regression on this data set (without imputing values) gives us a training/test score of about 75%. \n",
    "\n",
    "b) Diabetes pedegree function is  the most important feature for prediction purposes. \n",
    "\n",
    "c) And recall is low at ~ 50%. I am missing people with diabetes and have to do better. \n",
    "\n",
    "d) Approach going ahead - First I intent to repeat analysis with imputed data and then use other classification models (kfold CV with logistic regression, knn, random forrest & SVM) to see which performs better that the rest. Another thing I must take care of is class imbalances. \n",
    "\n"
   ]
  },
  {
   "cell_type": "code",
   "execution_count": null,
   "metadata": {},
   "outputs": [],
   "source": []
  }
 ],
 "metadata": {
  "kernelspec": {
   "display_name": "Python 3",
   "language": "python",
   "name": "python3"
  },
  "language_info": {
   "codemirror_mode": {
    "name": "ipython",
    "version": 3
   },
   "file_extension": ".py",
   "mimetype": "text/x-python",
   "name": "python",
   "nbconvert_exporter": "python",
   "pygments_lexer": "ipython3",
   "version": "3.7.4"
  }
 },
 "nbformat": 4,
 "nbformat_minor": 2
}
